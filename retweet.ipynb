{
 "cells": [
  {
   "cell_type": "code",
   "execution_count": 4,
   "metadata": {},
   "outputs": [
    {
     "name": "stdout",
     "output_type": "stream",
     "text": [
      "9000 1535 1520 3\n"
     ]
    }
   ],
   "source": [
    "import pandas as pd\n",
    "import numpy as np\n",
    "retweet_train = pd.read_pickle('examples/data/retweet/train.pkl')\n",
    "retweet_valid = pd.read_pickle('examples/data/retweet/dev.pkl')\n",
    "retweet_test = pd.read_pickle('examples/data/retweet/test.pkl')\n",
    "dim_process = retweet_train['dim_process']\n",
    "train_retweet = retweet_train['train']\n",
    "test_retweet = retweet_test['test']\n",
    "valid_retweet = retweet_valid['dev']\n",
    "print(len(train_retweet), len(valid_retweet),len(test_retweet), dim_process)"
   ]
  },
  {
   "cell_type": "code",
   "execution_count": null,
   "metadata": {},
   "outputs": [],
   "source": []
  }
 ],
 "metadata": {
  "kernelspec": {
   "display_name": "easytpp",
   "language": "python",
   "name": "python3"
  },
  "language_info": {
   "codemirror_mode": {
    "name": "ipython",
    "version": 3
   },
   "file_extension": ".py",
   "mimetype": "text/x-python",
   "name": "python",
   "nbconvert_exporter": "python",
   "pygments_lexer": "ipython3",
   "version": "3.8.20"
  }
 },
 "nbformat": 4,
 "nbformat_minor": 2
}
